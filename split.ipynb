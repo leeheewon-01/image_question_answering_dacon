{
 "cells": [
  {
   "cell_type": "code",
   "execution_count": null,
   "metadata": {},
   "outputs": [],
   "source": [
    "import pandas as pd\n",
    "\n",
    "data = pd.read_csv('preprocess_train.csv')"
   ]
  },
  {
   "cell_type": "code",
   "execution_count": null,
   "metadata": {},
   "outputs": [],
   "source": [
    "from sklearn.model_selection import GroupKFold\n",
    "\n",
    "gkf = GroupKFold(n_splits=100)\n",
    "data['fold'] = -1\n",
    "\n",
    "for fold, (train_idx, valid_idx) in enumerate(gkf.split(data, groups=data['image_id'])):\n",
    "    data.loc[valid_idx, 'fold'] = fold"
   ]
  },
  {
   "cell_type": "code",
   "execution_count": null,
   "metadata": {},
   "outputs": [],
   "source": [
    "for i in range(5):\n",
    "    train_data = data[data['fold'] != i].drop('fold', axis=1).reset_index(drop=True)\n",
    "    valid_data = data[data['fold'] == i].drop('fold', axis=1).reset_index(drop=True)\n",
    "    print(train_data.shape, valid_data.shape)\n",
    "\n",
    "    train_data.to_csv(f'./split_df/split_train_{i}.csv', index=False)\n",
    "    valid_data.to_csv(f'./split_df/split_valid_{i}.csv', index=False)"
   ]
  }
 ],
 "metadata": {
  "kernelspec": {
   "display_name": "base",
   "language": "python",
   "name": "python3"
  },
  "language_info": {
   "codemirror_mode": {
    "name": "ipython",
    "version": 3
   },
   "file_extension": ".py",
   "mimetype": "text/x-python",
   "name": "python",
   "nbconvert_exporter": "python",
   "pygments_lexer": "ipython3",
   "version": "3.8.17"
  },
  "orig_nbformat": 4
 },
 "nbformat": 4,
 "nbformat_minor": 2
}
