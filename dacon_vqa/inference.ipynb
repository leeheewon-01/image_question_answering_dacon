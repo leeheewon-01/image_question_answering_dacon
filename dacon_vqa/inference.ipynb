{
 "cells": [
  {
   "cell_type": "code",
   "execution_count": null,
   "metadata": {},
   "outputs": [],
   "source": [
    "from transformers import AutoProcessor,AutoModelForCausalLM\n",
    "from utils import get_dataset\n",
    "from tqdm import tqdm\n",
    "from literal import ANSWER,IMG,QUESTION\n",
    "import pandas as pd\n",
    "import warnings\n",
    "import torch\n",
    "warnings.filterwarnings('ignore')"
   ]
  },
  {
   "cell_type": "code",
   "execution_count": null,
   "metadata": {},
   "outputs": [],
   "source": [
    "test_datasets = get_dataset('/home/hwlee/dacon/imgQA/preprocess_test.csv')"
   ]
  },
  {
   "cell_type": "code",
   "execution_count": null,
   "metadata": {},
   "outputs": [],
   "source": [
    "device = 'cuda:0' if torch.cuda.is_available() else 'cpu'\n",
    "\n",
    "processors = AutoProcessor.from_pretrained(\"microsoft/git-large-coco\")\n",
    "models = [AutoModelForCausalLM.from_pretrained(path).to(device) for path in [\"/home/user/4TB/hwlee/imgQA_output_0/\",\n",
    "                                                                             \"/home/user/4TB/hwlee/imgQA_output_1/\", \n",
    "                                                                             \"/home/user/4TB/hwlee/imgQA_output_2/\",\n",
    "                                                                             \"/home/user/4TB/hwlee/imgQA_output_3/\",\n",
    "                                                                             \"/home/user/4TB/hwlee/imgQA_output_4/\"\n",
    "                                                                             ]]"
   ]
  },
  {
   "cell_type": "code",
   "execution_count": null,
   "metadata": {},
   "outputs": [],
   "source": [
    "pixel_value_list = []\n",
    "input_ids_list = []\n",
    "\n",
    "for data in tqdm(test_datasets):\n",
    "    image = data[IMG]\n",
    "    question = data[QUESTION].lower()\n",
    "    pixel_values = processors(images=image, return_tensors=\"pt\").pixel_values\n",
    "    input_ids = processors(text=question, return_tensors=\"pt\").input_ids\n",
    "    pixel_value_list.append(pixel_values)\n",
    "    input_ids_list.append(input_ids)"
   ]
  },
  {
   "cell_type": "code",
   "execution_count": null,
   "metadata": {},
   "outputs": [],
   "source": [
    "labels = []\n",
    "\n",
    "for i in tqdm(range(len(test_datasets))):\n",
    "    pixel_values = pixel_value_list[i].to(device)\n",
    "    input_ids = input_ids_list[i].to(device)\n",
    "    question = processors.tokenizer.decode(input_ids_list[i][0], skip_special_tokens=True)\n",
    "\n",
    "    answer_list = []\n",
    "    for model in models:\n",
    "        generated_ids = model.generate(pixel_values=pixel_values, input_ids=input_ids, max_length=100,eos_token_id = 102)[0]\n",
    "        answer = processors.tokenizer.decode(generated_ids,skip_special_tokens=True).replace(question,\"\").lstrip().rstrip()\n",
    "        answer_list.append(answer)\n",
    "\n",
    "    most_common_answer = max(set(answer_list), key=answer_list.count)\n",
    "\n",
    "    labels.append(most_common_answer)"
   ]
  },
  {
   "cell_type": "code",
   "execution_count": null,
   "metadata": {},
   "outputs": [],
   "source": [
    "sub = pd.read_csv('/home/hwlee/dacon/imgQA/sample_submission.csv')\n",
    "sub[ANSWER] = labels\n",
    "\n",
    "sub.to_csv('0.csv',index=False)"
   ]
  }
 ],
 "metadata": {
  "kernelspec": {
   "display_name": ".vqa",
   "language": "python",
   "name": "python3"
  },
  "language_info": {
   "codemirror_mode": {
    "name": "ipython",
    "version": 3
   },
   "file_extension": ".py",
   "mimetype": "text/x-python",
   "name": "python",
   "nbconvert_exporter": "python",
   "pygments_lexer": "ipython3",
   "version": "3.8.17"
  },
  "orig_nbformat": 4
 },
 "nbformat": 4,
 "nbformat_minor": 2
}
